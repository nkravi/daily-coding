{
 "cells": [
  {
   "cell_type": "markdown",
   "metadata": {},
   "source": [
    "### Problem statement "
   ]
  },
  {
   "cell_type": "markdown",
   "metadata": {},
   "source": [
    "``` Kth Largest Element in an Array\n",
    " Given numbers array find kth largest number.\n",
    "```\n",
    "- Input: [3,2,1,5,6,4] and k = 2 Output: 5\n",
    "- Input: [3,2,3,1,2,4,5,5,6] and k = 4 Output: 4"
   ]
  },
  {
   "cell_type": "code",
   "execution_count": 37,
   "metadata": {},
   "outputs": [],
   "source": [
    "from random import shuffle\n",
    "\n",
    "class KthLargest:\n",
    "    \n",
    "    def swap(self,nums,i,j):\n",
    "        tmp = nums[i]\n",
    "        nums[i] = nums[j]\n",
    "        nums[j] = tmp\n",
    "    \n",
    "    def partition(self,nums,lo,hi):\n",
    "        midVal = nums[lo]\n",
    "        i = lo+1\n",
    "        j = hi\n",
    "        while True:\n",
    "            while i<= hi and nums[i] >= midVal:\n",
    "                i+=1\n",
    "            while j>= lo and nums[j] < midVal:\n",
    "                j-=1\n",
    "            if(i >=j):\n",
    "                break\n",
    "            self.swap(nums,i,j)\n",
    "        self.swap(nums,lo,j)\n",
    "        return j\n",
    "    \n",
    "    def largest(self,nums,k):\n",
    "        left = 0\n",
    "        right = len(nums)-1\n",
    "        midIndex = self.partition(nums,left,right)\n",
    "        while(midIndex != k):\n",
    "            if(k < midIndex):\n",
    "                right = midIndex-1\n",
    "            else:\n",
    "                left = midIndex+1\n",
    "            midIndex = self.partition(nums,left,right)\n",
    "        return midIndex\n",
    "    \n",
    "    def findKthLargest(self,nums,k):\n",
    "        if nums== None or len(nums) == 0 or k > len(nums):\n",
    "            raise Exception(\"wrong params\")\n",
    "        shuffle(nums)\n",
    "        return nums[self.largest(nums,k-1)]\n",
    "    "
   ]
  },
  {
   "cell_type": "code",
   "execution_count": 39,
   "metadata": {},
   "outputs": [
    {
     "name": "stdout",
     "output_type": "stream",
     "text": [
      "4\n"
     ]
    }
   ],
   "source": [
    "obj = KthLargest()\n",
    "nums = [3,2,3,1,2,4,5,5,6]\n",
    "print(obj.findKthLargest(nums,4))\n"
   ]
  },
  {
   "cell_type": "code",
   "execution_count": 40,
   "metadata": {},
   "outputs": [
    {
     "name": "stdout",
     "output_type": "stream",
     "text": [
      "10\n",
      "9\n",
      "8\n",
      "7\n",
      "6\n",
      "5\n",
      "4\n",
      "3\n",
      "2\n",
      "1\n"
     ]
    }
   ],
   "source": [
    "nums = list(range(1,11))\n",
    "for i in range(1,len(nums)+1):\n",
    "    shuffle(nums)\n",
    "    print(obj.findKthLargest(nums,i))"
   ]
  },
  {
   "cell_type": "code",
   "execution_count": 41,
   "metadata": {},
   "outputs": [
    {
     "name": "stdout",
     "output_type": "stream",
     "text": [
      "3\n",
      "3\n",
      "2\n",
      "2\n",
      "2\n",
      "1\n",
      "1\n",
      "1\n",
      "1\n"
     ]
    }
   ],
   "source": [
    "nums = [1]*4 + [2] *3 + [3] *2\n",
    "for i in range(1,len(nums)+1):\n",
    "    shuffle(nums)\n",
    "    print(obj.findKthLargest(nums,i))"
   ]
  },
  {
   "cell_type": "code",
   "execution_count": 46,
   "metadata": {},
   "outputs": [
    {
     "data": {
      "text/plain": [
       "1"
      ]
     },
     "execution_count": 46,
     "metadata": {},
     "output_type": "execute_result"
    }
   ],
   "source": [
    "obj.findKthLargest([1],1)"
   ]
  },
  {
   "cell_type": "markdown",
   "metadata": {},
   "source": [
    "### Runtime\n",
    "\n",
    "```average case : n + n/2 + n/4 ..... = n(1 + 1/2 + 1/4 +... ) ~ O(n)\n",
    "worst case: n + n-1 + n-2 ...  = n(n+1)/2 ~ O(n^2)\n",
    "```"
   ]
  }
 ],
 "metadata": {
  "kernelspec": {
   "display_name": "Python 3",
   "language": "python",
   "name": "python3"
  },
  "language_info": {
   "codemirror_mode": {
    "name": "ipython",
    "version": 3
   },
   "file_extension": ".py",
   "mimetype": "text/x-python",
   "name": "python",
   "nbconvert_exporter": "python",
   "pygments_lexer": "ipython3",
   "version": "3.6.5"
  }
 },
 "nbformat": 4,
 "nbformat_minor": 2
}
